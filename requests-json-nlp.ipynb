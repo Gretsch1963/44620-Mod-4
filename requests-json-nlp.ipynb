{
 "cells": [
  {
   "cell_type": "markdown",
   "metadata": {},
   "source": [
    "# Web Mining and Applied NLP (44-620)\n",
    "\n",
    "## Requests, JSON, and NLP\n",
    "\n",
    "### Student Name: John Hickman\n",
    "\n",
    "### Git Hub Repo https://github.com/Gretsch1963/44620-Mod-4\n",
    "\n",
    "Perform the tasks described in the Markdown cells below.  When you have completed the assignment make sure your code cells have all been run (and have output beneath them) and ensure you have committed and pushed ALL of your changes to your assignment repository.\n",
    "\n",
    "Make sure you have [installed spaCy and its pipeline](https://spacy.io/usage#quickstart) and [spaCyTextBlob](https://spacy.io/universe/project/spacy-textblob)\n",
    "\n",
    "Every question that requires you to write code will have a code cell underneath it; you may either write your entire solution in that cell or write it in a python file (`.py`), then import and run the appropriate code to answer the question.\n",
    "\n",
    "This assignment requires that you write additional files (either JSON or pickle files); make sure to submit those files in your repository as well."
   ]
  },
  {
   "cell_type": "markdown",
   "metadata": {},
   "source": [
    "# Question 1"
   ]
  },
  {
   "cell_type": "markdown",
   "metadata": {},
   "source": [
    "1. The following code accesses the [lyrics.ovh](https://lyricsovh.docs.apiary.io/#reference/0/lyrics-of-a-song/search) public api, searches for the lyrics of a song, and stores it in a dictionary object.  Write the resulting json to a file (either a JSON file or a pickle file; you choose). You will read in the contents of this file for future questions so we do not need to frequently access the API."
   ]
  },
  {
   "cell_type": "code",
   "execution_count": 4,
   "metadata": {},
   "outputs": [
    {
     "name": "stdout",
     "output_type": "stream",
     "text": [
      "Searching for songs by Bruce Springsteen...\n",
      "\n",
      "Song 1: \"30 Days Out\"\n",
      "Song 2: \"4th of July, Asbury Park (Live 1980)\"\n",
      "Song 3: \"4th of July, Asbury Park (Sandy)\"\n",
      "\n",
      "Reached user-specified song limit (3).\n",
      "Done. Found 3 songs.\n",
      "[Song(id, artist, ...), Song(id, artist, ...), Song(id, artist, ...)]\n",
      "Searching for \"Born in the USA\" by Bruce Springsteen...\n",
      "Done.\n",
      "101 ContributorsBorn in the U.S.A. Lyrics[Verse 1]\n",
      "Born down in a dead man's town\n",
      "The first kick I took was when I hit the ground\n",
      "You end up like a dog that's been beat too much\n",
      "'Til you spend half your life just covering up, now\n",
      "[Chorus]\n",
      "Born in the U.S.A. \n",
      "I was born in the U.S.A. \n",
      "I was born in the U.S.A. \n",
      "Born in the U.S.A. now \n",
      "\n",
      "[Verse 2]\n",
      "Got in a little hometown jam\n",
      "So they put a rifle in my hand\n",
      "Sent me off to a foreign land\n",
      "To go and kill the yellow man\n",
      "[Chorus]\n",
      "Born in the U.S.A. \n",
      "I was born in the U.S.A. \n",
      "I was born in the U.S.A. \n",
      "I was born in the U.S.A. \n",
      "\n",
      "[Verse 3]\n",
      "Come back home to the refinery\n",
      "Hiring man says, “Son, if it was up to me”\n",
      "Went down to see my V.A. man\n",
      "He said, “Son, don't you understand”\n",
      "See Bruce Springsteen LiveGet tickets as low as $34You might also like[Verse 4]\n",
      "I had a brother at Khe Sanh\n",
      "Fighting off them Viet Cong\n",
      "They're still there, he's all gone\n",
      "He had a woman he loved in Saigon\n",
      "I got a picture of him in her arms now\n",
      "[Verse 5]\n",
      "Down in the shadow of the penitentiary\n",
      "Out by the gas fires of the refinery\n",
      "I'm ten years burning down the road\n",
      "Nowhere to run, ain't got nowhere to go\n",
      "[Chorus]\n",
      "Born in the U.S.A. \n",
      "I was born in the U.S.A. now\n",
      "Born in the U.S.A. \n",
      "I'm a long gone Daddy in the U.S.A. now\n",
      "Born in the U.S.A. \n",
      "Born in the U.S.A. \n",
      "Born in the U.S.A. \n",
      "I'm a cool rocking Daddy in the U.S.A. now24Embed\n",
      "Lyrics_BruceSpringsteen.json already exists. Overwrite?\n",
      "(y/n): y\n",
      "Wrote Lyrics_BruceSpringsteen.json.\n"
     ]
    }
   ],
   "source": [
    "import requests\n",
    "import json\n",
    "\n",
    "\n",
    "#imports the packages and initiates lyrics Genius (vs Lyrics.ovh above)\n",
    "import lyricsgenius\n",
    "\n",
    "genius = lyricsgenius.Genius(\"sugMHkrc4qTfbzWfBIL3olgq2FPZslEVMep_YO5Tb1DsyBv3U4CCO7J8e_6x4oRZ\")\n",
    "\n",
    "#searches for a song by artist name:\n",
    "\n",
    "artist = genius.search_artist(\"Bruce Springsteen\", max_songs=3, sort=\"title\", include_features=True)\n",
    "print(artist.songs)\n",
    "\n",
    "#searches for a single song by the artist:\n",
    "\n",
    "song = artist.song(\"Born in the USA\")\n",
    "\n",
    "print(song.lyrics)\n",
    "lyrics = song.lyrics\n",
    "\n",
    "#adds the song to the artist object:\n",
    "artist.add_song(song)\n",
    "\n",
    "#saves the artist's songs to a JSON file:\n",
    "artist.save_lyrics()\n",
    "\n",
    "song_desc = {\n",
    "    'artist': 'Bruce Springsteen',\n",
    "    'title': 'Born in the USA',\n",
    "    'lyrics': lyrics \n",
    "}\n",
    "\n",
    "with open('born_in_the_USA.json', 'w') as f:\n",
    "    json.dump(song_desc, f)"
   ]
  },
  {
   "cell_type": "markdown",
   "metadata": {},
   "source": [
    "# Question 2"
   ]
  },
  {
   "cell_type": "markdown",
   "metadata": {},
   "source": [
    "2. Read in the contents of your file.  Print the lyrics of the song (not the entire dictionary!) and use spaCyTextBlob to perform sentiment analysis on the lyrics.  Print the polarity score of the sentiment analysis.  Given that the range of the polarity score is `[-1.0,1.0]` which corresponds to how positive or negative the text in question is, do you think the lyrics have a more positive or negative connotaion?  Answer this question in a comment in your code cell."
   ]
  },
  {
   "cell_type": "code",
   "execution_count": 8,
   "metadata": {},
   "outputs": [
    {
     "name": "stdout",
     "output_type": "stream",
     "text": [
      "101 ContributorsBorn in the U.S.A. Lyrics[Verse 1]\n",
      "Born down in a dead man's town\n",
      "The first kick I took was when I hit the ground\n",
      "You end up like a dog that's been beat too much\n",
      "'Til you spend half your life just covering up, now\n",
      "[Chorus]\n",
      "Born in the U.S.A. \n",
      "I was born in the U.S.A. \n",
      "I was born in the U.S.A. \n",
      "Born in the U.S.A. now \n",
      "\n",
      "[Verse 2]\n",
      "Got in a little hometown jam\n",
      "So they put a rifle in my hand\n",
      "Sent me off to a foreign land\n",
      "To go and kill the yellow man\n",
      "[Chorus]\n",
      "Born in the U.S.A. \n",
      "I was born in the U.S.A. \n",
      "I was born in the U.S.A. \n",
      "I was born in the U.S.A. \n",
      "\n",
      "[Verse 3]\n",
      "Come back home to the refinery\n",
      "Hiring man says, “Son, if it was up to me”\n",
      "Went down to see my V.A. man\n",
      "He said, “Son, don't you understand”\n",
      "See Bruce Springsteen LiveGet tickets as low as $34You might also like[Verse 4]\n",
      "I had a brother at Khe Sanh\n",
      "Fighting off them Viet Cong\n",
      "They're still there, he's all gone\n",
      "He had a woman he loved in Saigon\n",
      "I got a picture of him in her arms now\n",
      "[Verse 5]\n",
      "Down in the shadow of the penitentiary\n",
      "Out by the gas fires of the refinery\n",
      "I'm ten years burning down the road\n",
      "Nowhere to run, ain't got nowhere to go\n",
      "[Chorus]\n",
      "Born in the U.S.A. \n",
      "I was born in the U.S.A. now\n",
      "Born in the U.S.A. \n",
      "I'm a long gone Daddy in the U.S.A. now\n",
      "Born in the U.S.A. \n",
      "Born in the U.S.A. \n",
      "Born in the U.S.A. \n",
      "I'm a cool rocking Daddy in the U.S.A. now24Embed\n",
      "The polarity score is : 0.008741830065359465\n"
     ]
    }
   ],
   "source": [
    "import requests\n",
    "import json\n",
    "import spacy\n",
    "from spacytextblob.spacytextblob import SpacyTextBlob\n",
    "\n",
    "with open('born_in_the_USA.json', 'r') as f:\n",
    "    song_desc = json.load(f)\n",
    "\n",
    "lyrics = song_desc['lyrics']\n",
    "\n",
    "print(lyrics)\n",
    "\n",
    "# Load spaCy and the spaCyTextBlob extension\n",
    "\n",
    "nlp = spacy.load(\"en_core_web_sm\")\n",
    "nlp.add_pipe(\"spacytextblob\")\n",
    "\n",
    "# Perform sentiment analysis on the lyrics\n",
    "\n",
    "doc = nlp(lyrics)\n",
    "polarity_score = doc._.polarity\n",
    "print(\"The polarity score is :\", polarity_score)\n",
    "\n",
    "## Given that the range of the polarity score is [-1.0,1.0] to check how positive or negative the lyrics is?\n",
    "## The polarity score of .008 suggests that the sentiment is very slightly positive. "
   ]
  },
  {
   "cell_type": "markdown",
   "metadata": {},
   "source": [
    "# Question 3"
   ]
  },
  {
   "cell_type": "markdown",
   "metadata": {},
   "source": [
    "3. Write a function that takes an artist, song, and filename, accesses the lyrics.ovh api to get the song lyrics, and writes the results to the specified filename.  Test this function by getting the lyrics to any four songs of your choice and storing them in different files."
   ]
  },
  {
   "cell_type": "code",
   "execution_count": 9,
   "metadata": {},
   "outputs": [
    {
     "name": "stdout",
     "output_type": "stream",
     "text": [
      "Searching for songs by Social Distortion...\n",
      "\n",
      "Song 1: \"Story of My Life\"\n",
      "\n",
      "Reached user-specified song limit (1).\n",
      "Done. Found 1 songs.\n",
      "Searching for \"Bad Luck\" by Social Distortion...\n",
      "Done.\n",
      "Searching for songs by The Interupters...\n",
      "\n",
      "Changing artist name to 'The Interrupters'\n",
      "Song 1: \"She’s Kerosene\"\n",
      "\n",
      "Reached user-specified song limit (1).\n",
      "Done. Found 1 songs.\n",
      "Searching for \"Raised By Wolves\" by The Interrupters...\n",
      "Done.\n",
      "Searching for songs by Sarah Brightman...\n",
      "\n",
      "Song 1: \"Time To Say Goodbye\"\n",
      "\n",
      "Reached user-specified song limit (1).\n",
      "Done. Found 1 songs.\n",
      "Searching for \"Time To Say Goodye\" by Sarah Brightman...\n",
      "Done.\n",
      "Searching for songs by New Order...\n",
      "\n",
      "Song 1: \"Blue Monday\"\n",
      "\n",
      "Reached user-specified song limit (1).\n",
      "Done. Found 1 songs.\n",
      "Searching for \"Substance\" by New Order...\n",
      "Done.\n"
     ]
    }
   ],
   "source": [
    "import json\n",
    "import lyricsgenius\n",
    "\n",
    "#defining function and passes artist,song and filename\n",
    "\n",
    "def get_lyrics(artist, song, f):    \n",
    "  genius = lyricsgenius.Genius(\"sugMHkrc4qTfbzWfBIL3olgq2FPZslEVMep_YO5Tb1DsyBv3U4CCO7J8e_6x4oRZ\")\n",
    "  artist = genius.search_artist(artist, max_songs=1,get_full_info=False)\n",
    "  song  = artist.song(song)\n",
    "  with open(f+' song_lyrics.json', 'w') as f:\n",
    "        json.dump(song.lyrics, f)\n",
    "\n",
    "# lyrics based on artist and song\n",
    "\n",
    "get_lyrics(\"Social Distortion\", \"Bad Luck\",\"Bad_Luck\")   \n",
    "get_lyrics(\"The Interupters\", \"Raised By Wolves\",\"Wolves\")  \n",
    "get_lyrics(\"Sarah Brightman\", \"Time To Say Goodye\",\"Sarah\")  \n",
    "get_lyrics(\"New Order\", \"Substance\",\"Substance\")  "
   ]
  },
  {
   "cell_type": "markdown",
   "metadata": {},
   "source": [
    "# Question 4"
   ]
  },
  {
   "cell_type": "markdown",
   "metadata": {},
   "source": [
    "4. Write a function that takes the name of a file that contains song lyrics, loads the file, performs sentiment analysis, and returns the polarity score.  Use this function to print the polarity scores (with the name of the song) of the three files you created in question 3.  Does the reported polarity match your understanding of the song's lyrics? Why or why not do you think that might be?  Answer the questions in either a comment in the code cell or a markdown cell under the code cell."
   ]
  },
  {
   "cell_type": "code",
   "execution_count": 10,
   "metadata": {},
   "outputs": [
    {
     "name": "stdout",
     "output_type": "stream",
     "text": [
      "Polarity scores of Bad_Luck song_lyrics.json: -0.49929078014184364\n",
      "Polarity scores of Wolves song_lyrics.json: -0.08827160493827159\n",
      "Polarity scores of Sarah song_lyrics.json: 0.296\n",
      "Polarity scores of Substance song_lyrics.json: -0.13774463383838384\n"
     ]
    }
   ],
   "source": [
    "import spacy\n",
    "from spacytextblob.spacytextblob import SpacyTextBlob\n",
    "import json\n",
    "\n",
    "# Running Sentiment Analysis and creating Output \n",
    "\n",
    "def sentiment_analysis(f):\n",
    "    nlp = spacy.load('en_core_web_sm')\n",
    "    nlp.add_pipe('spacytextblob')\n",
    "    with open(f, 'r') as f:\n",
    "        lyrics = json.load(f)\n",
    "    doc = nlp(lyrics)\n",
    "    polarity = doc._.blob.polarity\n",
    "    \n",
    "    print(f'Polarity scores of {f.name}: {polarity}')\n",
    "    \n",
    "#Fetching Song Polarity Scores for lyric output in #3\n",
    "\n",
    "sentiment_analysis('Bad_Luck song_lyrics.json')\n",
    "sentiment_analysis('Wolves song_lyrics.json')\n",
    "sentiment_analysis('Sarah song_lyrics.json')\n",
    "sentiment_analysis('Substance song_lyrics.json')"
   ]
  },
  {
   "cell_type": "markdown",
   "metadata": {},
   "source": [
    "### The polarity scores are as expected. Bad Luck is a negative sentiment song about a guy who's down on his luck and Raised By Wolves deals with childhood abandonment issues even if the songwriter overcomes the issues, so not surprising that the sentiment analysis was negative. Sarah Brightman's song is translated from Italian and doesn't make a lot of sense in english, so could understand  the sentiment might trend more neutral to positive. Substance is also a negative song resulting in a negative sentiment. "
   ]
  },
  {
   "cell_type": "code",
   "execution_count": null,
   "metadata": {},
   "outputs": [],
   "source": []
  }
 ],
 "metadata": {
  "kernelspec": {
   "display_name": "Python 3 (ipykernel)",
   "language": "python",
   "name": "python3"
  },
  "language_info": {
   "codemirror_mode": {
    "name": "ipython",
    "version": 3
   },
   "file_extension": ".py",
   "mimetype": "text/x-python",
   "name": "python",
   "nbconvert_exporter": "python",
   "pygments_lexer": "ipython3",
   "version": "3.10.9"
  }
 },
 "nbformat": 4,
 "nbformat_minor": 4
}
